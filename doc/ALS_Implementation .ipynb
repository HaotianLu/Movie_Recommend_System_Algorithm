{
 "cells": [
  {
   "cell_type": "code",
   "execution_count": 65,
   "metadata": {},
   "outputs": [
    {
     "name": "stdout",
     "output_type": "stream",
     "text": [
      "[[5 3 0 1]\n",
      " [4 0 0 1]\n",
      " [1 1 0 5]\n",
      " [1 0 0 4]\n",
      " [0 1 5 4]]\n"
     ]
    }
   ],
   "source": [
    "import numpy as np\n",
    "\n",
    "\n",
    "Q=[[5,3,0,1],[4,0,0,1],[1,1,0,5],[1,0,0,4],[0,1,5,4]]\n",
    "Q = np.array(Q)\n",
    "print(Q)"
   ]
  },
  {
   "cell_type": "code",
   "execution_count": 66,
   "metadata": {},
   "outputs": [
    {
     "data": {
      "text/plain": [
       "array([[ True,  True, False,  True],\n",
       "       [ True, False, False,  True],\n",
       "       [ True,  True, False,  True],\n",
       "       [ True, False, False,  True],\n",
       "       [False,  True,  True,  True]])"
      ]
     },
     "execution_count": 66,
     "metadata": {},
     "output_type": "execute_result"
    }
   ],
   "source": [
    "W = Q>0\n",
    "W"
   ]
  },
  {
   "cell_type": "code",
   "execution_count": 67,
   "metadata": {},
   "outputs": [
    {
     "data": {
      "text/plain": [
       "array([[1, 1, 0, 1],\n",
       "       [1, 0, 0, 1],\n",
       "       [1, 1, 0, 1],\n",
       "       [1, 0, 0, 1],\n",
       "       [0, 1, 1, 1]])"
      ]
     },
     "execution_count": 67,
     "metadata": {},
     "output_type": "execute_result"
    }
   ],
   "source": [
    "W = W * 1\n",
    "W"
   ]
  },
  {
   "cell_type": "code",
   "execution_count": 68,
   "metadata": {},
   "outputs": [],
   "source": [
    "lambda_ = 0.001\n",
    "n_factors = 3\n",
    "m, n = Q.shape\n",
    "n_iterations = 20"
   ]
  },
  {
   "cell_type": "code",
   "execution_count": 69,
   "metadata": {},
   "outputs": [],
   "source": [
    "X = 5 * np.random.rand(m, n_factors) \n",
    "Y = 5 * np.random.rand(n_factors, n)"
   ]
  },
  {
   "cell_type": "code",
   "execution_count": 70,
   "metadata": {},
   "outputs": [
    {
     "data": {
      "text/plain": [
       "array([[0.9354398 , 2.67111171, 0.3327935 ],\n",
       "       [3.06622681, 1.5979841 , 3.87532324],\n",
       "       [4.84919766, 4.42377823, 0.4845187 ],\n",
       "       [1.7268013 , 4.49343039, 1.21400538],\n",
       "       [2.32156956, 2.10985944, 2.72221263]])"
      ]
     },
     "execution_count": 70,
     "metadata": {},
     "output_type": "execute_result"
    }
   ],
   "source": [
    "X"
   ]
  },
  {
   "cell_type": "code",
   "execution_count": 71,
   "metadata": {},
   "outputs": [
    {
     "data": {
      "text/plain": [
       "array([[2.46882868, 0.43899893, 0.69388116, 2.182868  ],\n",
       "       [2.39441754, 0.62826686, 4.88920407, 2.03933859],\n",
       "       [0.54020096, 4.83716031, 1.02610716, 0.48316345]])"
      ]
     },
     "execution_count": 71,
     "metadata": {},
     "output_type": "execute_result"
    }
   ],
   "source": [
    "Y"
   ]
  },
  {
   "cell_type": "code",
   "execution_count": 72,
   "metadata": {},
   "outputs": [],
   "source": [
    "import time"
   ]
  },
  {
   "cell_type": "code",
   "execution_count": 73,
   "metadata": {},
   "outputs": [
    {
     "data": {
      "text/plain": [
       "array([[1, 1, 0, 1],\n",
       "       [1, 0, 0, 1],\n",
       "       [1, 1, 0, 1],\n",
       "       [1, 0, 0, 1],\n",
       "       [0, 1, 1, 1]])"
      ]
     },
     "execution_count": 73,
     "metadata": {},
     "output_type": "execute_result"
    }
   ],
   "source": [
    "W"
   ]
  },
  {
   "cell_type": "code",
   "execution_count": 74,
   "metadata": {},
   "outputs": [
    {
     "name": "stdout",
     "output_type": "stream",
     "text": [
      "0\n",
      "[1 1 0 1]\n",
      "1\n",
      "[1 0 0 1]\n",
      "2\n",
      "[1 1 0 1]\n",
      "3\n",
      "[1 0 0 1]\n",
      "4\n",
      "[0 1 1 1]\n"
     ]
    }
   ],
   "source": [
    "for u,Wu in enumerate(W):\n",
    "    print(u)\n",
    "    print(Wu)"
   ]
  },
  {
   "cell_type": "code",
   "execution_count": 75,
   "metadata": {},
   "outputs": [
    {
     "name": "stdout",
     "output_type": "stream",
     "text": [
      "37.34878354344798\n",
      "6.4481897436342885\n",
      "1.752245925040639\n",
      "0.04714231957293116\n",
      "0.027436330604959987\n",
      "0.02162089783549907\n",
      "0.016931587311581994\n",
      "0.01345868450129202\n",
      "0.010810549023475098\n",
      "0.008538997012511644\n",
      "0.007136874338570847\n",
      "0.0009731100020001957\n",
      "0.0006910370194470599\n",
      "0.0005381814946738072\n",
      "0.00041598753267976167\n",
      "0.0003215791896375162\n",
      "0.0002487084386353092\n",
      "0.00018796607058009306\n",
      "0.00014737992381844533\n",
      "0.0001135407189786447\n"
     ]
    }
   ],
   "source": [
    "weighted_errors =[]\n",
    "\n",
    "start = time.time()\n",
    "\n",
    "for ii in range(n_iterations):\n",
    "    \n",
    "    for u, Wu in enumerate(W):\n",
    "        \n",
    "        X[u] = np.linalg.solve(np.dot(Y, np.dot(np.diag(Wu), Y.T)) + lambda_ * (np.linalg.norm(Y)**2), np.dot(Y, np.dot(np.diag(Wu), Q[u].T))).T\n",
    "        \n",
    "    for i, Wi in enumerate(W.T):\n",
    "            \n",
    "        Y[:,i] = np.linalg.solve(np.dot(X.T, np.dot(np.diag(Wi), X))+ lambda_ * (np.linalg.norm(X)**2), np.dot(X.T, np.dot(np.diag(Wi), Q[:, i])))\n",
    "\n",
    "    error = np.sum((W * (Q - np.dot(X, Y)))**2)\n",
    "    print(error)\n",
    "    weighted_errors.append(error)\n",
    "    \n",
    "    elapsed = (start-time.time())\n",
    "\n",
    "    Q_hat = np.dot(X,Y)"
   ]
  },
  {
   "cell_type": "code",
   "execution_count": 76,
   "metadata": {},
   "outputs": [
    {
     "data": {
      "text/plain": [
       "array([ 26.62991086, -27.05308484,   0.42317398])"
      ]
     },
     "execution_count": 76,
     "metadata": {},
     "output_type": "execute_result"
    }
   ],
   "source": [
    "np.linalg.solve(\n",
    "    np.dot(Y, np.dot(np.diag(Wu), Y.T)) + lambda_ * np.linalg.norm(Y)**2, \n",
    "    np.dot(Y, np.dot(np.diag(Wu), Q[u].T))\n",
    ").T"
   ]
  },
  {
   "cell_type": "code",
   "execution_count": null,
   "metadata": {},
   "outputs": [],
   "source": []
  }
 ],
 "metadata": {
  "kernelspec": {
   "display_name": "Python 3",
   "language": "python",
   "name": "python3"
  },
  "language_info": {
   "codemirror_mode": {
    "name": "ipython",
    "version": 3
   },
   "file_extension": ".py",
   "mimetype": "text/x-python",
   "name": "python",
   "nbconvert_exporter": "python",
   "pygments_lexer": "ipython3",
   "version": "3.7.1"
  }
 },
 "nbformat": 4,
 "nbformat_minor": 2
}
